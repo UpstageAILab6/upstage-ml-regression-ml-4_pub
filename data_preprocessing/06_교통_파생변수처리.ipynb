{
 "cells": [
  {
   "cell_type": "markdown",
   "metadata": {},
   "source": [
    "\n",
    "# 지하철, 버스 역세권, 버세권 파생변수 추가\n",
    "\n",
    "- 역세권\n",
    "1차 역세권: 250 이내\n",
    "2차 역세권: 250~500 이내\n",
    "\n",
    "- 버세권\n",
    "1차버세권: 250이내"
   ]
  },
  {
   "cell_type": "code",
   "execution_count": 1,
   "metadata": {},
   "outputs": [],
   "source": [
    "# sys.path를 수정하여 모듈 경로를 설정\n",
    "import sys\n",
    "import os\n",
    "import pandas as pd\n",
    "\n",
    "# 프로젝트 루트 경로 추가\n",
    "project_root = os.path.abspath(\"..\")\n",
    "sys.path.append(project_root)\n",
    "\n",
    "import module"
   ]
  },
  {
   "cell_type": "code",
   "execution_count": 2,
   "metadata": {},
   "outputs": [],
   "source": [
    "# visualization\n",
    "import matplotlib.pyplot as plt\n",
    "import matplotlib.font_manager as fm\n",
    "fe = fm.FontEntry(\n",
    "    fname=r'/usr/share/fonts/truetype/nanum/NanumGothic.ttf', # ttf 파일이 저장되어 있는 경로\n",
    "    name='NanumBarunGothic')                        # 이 폰트의 원하는 이름 설정\n",
    "fm.fontManager.ttflist.insert(0, fe)              # Matplotlib에 폰트 추가\n",
    "plt.rcParams.update({'font.size': 10, 'font.family': 'NanumBarunGothic'}) # 폰트 설정\n",
    "plt.rc('font', family='NanumBarunGothic')\n",
    "import seaborn as sns\n",
    "\n",
    "# utils\n",
    "import pandas as pd\n",
    "import numpy as np\n",
    "from tqdm import tqdm\n",
    "import pickle\n",
    "import warnings;warnings.filterwarnings('ignore')\n",
    "\n",
    "# Model\n",
    "from sklearn.preprocessing import LabelEncoder\n",
    "from sklearn.model_selection import train_test_split\n",
    "from sklearn.metrics import mean_squared_error\n",
    "from sklearn.ensemble import RandomForestRegressor\n",
    "from sklearn import metrics\n",
    "\n",
    "import eli5\n",
    "from eli5.sklearn import PermutationImportance"
   ]
  },
  {
   "cell_type": "code",
   "execution_count": 3,
   "metadata": {},
   "outputs": [],
   "source": [
    "df = module.file_load.load_current_version()"
   ]
  },
  {
   "cell_type": "code",
   "execution_count": 4,
   "metadata": {},
   "outputs": [],
   "source": [
    "subway_df = module.file_load.load_지하철()\n",
    "bus_df = module.file_load.load_버스()"
   ]
  },
  {
   "cell_type": "code",
   "execution_count": 5,
   "metadata": {},
   "outputs": [
    {
     "name": "stdout",
     "output_type": "stream",
     "text": [
      "   역사_ID 역사명   호선         위도          경도\n",
      "0   9996  미사  5호선  37.560927  127.193877\n",
      "       노드 ID  정류소번호     정류소명         X좌표        Y좌표 정류소 타입\n",
      "0  100000001   1001  종로2가사거리  126.987752  37.569808   중앙차로\n"
     ]
    }
   ],
   "source": [
    "print(subway_df.head(1))\n",
    "print(bus_df.head(1))"
   ]
  },
  {
   "cell_type": "code",
   "execution_count": 6,
   "metadata": {},
   "outputs": [
    {
     "data": {
      "text/plain": [
       "'v5'"
      ]
     },
     "execution_count": 6,
     "metadata": {},
     "output_type": "execute_result"
    }
   ],
   "source": [
    "module.file_load.current_version"
   ]
  },
  {
   "cell_type": "code",
   "execution_count": 7,
   "metadata": {},
   "outputs": [],
   "source": [
    "concat_select = module.preprocess.결측치_제거_100만개_이상(df)"
   ]
  },
  {
   "cell_type": "code",
   "execution_count": 8,
   "metadata": {},
   "outputs": [],
   "source": [
    "module.preprocess.범주형_타입변환(df)"
   ]
  },
  {
   "cell_type": "code",
   "execution_count": 9,
   "metadata": {},
   "outputs": [],
   "source": [
    "subway_df = subway_df.rename(columns={'위도': 'y', '경도': 'x'})\n",
    "bus_df = bus_df.rename(columns={'Y좌표': 'y', 'X좌표': 'x'})"
   ]
  },
  {
   "cell_type": "code",
   "execution_count": 10,
   "metadata": {},
   "outputs": [],
   "source": [
    "concat_select = module.preprocess.calculate_nearest_subway_distance(concat_select, subway_df, 'nearest_subway_distance')\n"
   ]
  },
  {
   "cell_type": "code",
   "execution_count": 11,
   "metadata": {},
   "outputs": [],
   "source": [
    "concat_select['nearest_subway_distance'] = concat_select['nearest_subway_distance'].apply(lambda x: x * 100000)"
   ]
  },
  {
   "cell_type": "code",
   "execution_count": 12,
   "metadata": {},
   "outputs": [
    {
     "data": {
      "text/html": [
       "<div>\n",
       "<style scoped>\n",
       "    .dataframe tbody tr th:only-of-type {\n",
       "        vertical-align: middle;\n",
       "    }\n",
       "\n",
       "    .dataframe tbody tr th {\n",
       "        vertical-align: top;\n",
       "    }\n",
       "\n",
       "    .dataframe thead th {\n",
       "        text-align: right;\n",
       "    }\n",
       "</style>\n",
       "<table border=\"1\" class=\"dataframe\">\n",
       "  <thead>\n",
       "    <tr style=\"text-align: right;\">\n",
       "      <th></th>\n",
       "      <th>시군구</th>\n",
       "      <th>번지</th>\n",
       "      <th>본번</th>\n",
       "      <th>부번</th>\n",
       "      <th>아파트명</th>\n",
       "      <th>전용면적(㎡)</th>\n",
       "      <th>계약년월</th>\n",
       "      <th>계약일</th>\n",
       "      <th>층</th>\n",
       "      <th>건축년도</th>\n",
       "      <th>...</th>\n",
       "      <th>단지승인일</th>\n",
       "      <th>사용허가여부</th>\n",
       "      <th>관리비 업로드</th>\n",
       "      <th>좌표X</th>\n",
       "      <th>좌표Y</th>\n",
       "      <th>단지신청일</th>\n",
       "      <th>target</th>\n",
       "      <th>금리_단기1년전차이</th>\n",
       "      <th>is_test</th>\n",
       "      <th>nearest_subway_distance</th>\n",
       "    </tr>\n",
       "  </thead>\n",
       "  <tbody>\n",
       "    <tr>\n",
       "      <th>3500</th>\n",
       "      <td>서울특별시 강남구 개포동</td>\n",
       "      <td>138</td>\n",
       "      <td>138.0</td>\n",
       "      <td>0.0</td>\n",
       "      <td>디에이치아너힐즈</td>\n",
       "      <td>84.3558</td>\n",
       "      <td>202010</td>\n",
       "      <td>31</td>\n",
       "      <td>29</td>\n",
       "      <td>2019</td>\n",
       "      <td>...</td>\n",
       "      <td>NaN</td>\n",
       "      <td>NaN</td>\n",
       "      <td>NaN</td>\n",
       "      <td>127.06796</td>\n",
       "      <td>37.48444</td>\n",
       "      <td>NaN</td>\n",
       "      <td>289000.0</td>\n",
       "      <td>-0.75</td>\n",
       "      <td>0</td>\n",
       "      <td>5.017592e+07</td>\n",
       "    </tr>\n",
       "  </tbody>\n",
       "</table>\n",
       "<p>1 rows × 50 columns</p>\n",
       "</div>"
      ],
      "text/plain": [
       "                시군구   번지     본번   부번      아파트명  전용면적(㎡)    계약년월  계약일   층  \\\n",
       "3500  서울특별시 강남구 개포동  138  138.0  0.0  디에이치아너힐즈  84.3558  202010   31  29   \n",
       "\n",
       "      건축년도  ... 단지승인일 사용허가여부 관리비 업로드        좌표X       좌표Y 단지신청일    target  \\\n",
       "3500  2019  ...   NaN    NaN     NaN  127.06796  37.48444   NaN  289000.0   \n",
       "\n",
       "     금리_단기1년전차이 is_test nearest_subway_distance  \n",
       "3500      -0.75       0            5.017592e+07  \n",
       "\n",
       "[1 rows x 50 columns]"
      ]
     },
     "execution_count": 12,
     "metadata": {},
     "output_type": "execute_result"
    }
   ],
   "source": [
    "concat_select[3500:3501]"
   ]
  },
  {
   "cell_type": "code",
   "execution_count": 13,
   "metadata": {},
   "outputs": [],
   "source": [
    "module.preprocess.역세권_add(concat_select)"
   ]
  },
  {
   "cell_type": "code",
   "execution_count": 14,
   "metadata": {},
   "outputs": [],
   "source": [
    "module.preprocess.시_군_구_add(concat_select)"
   ]
  },
  {
   "cell_type": "code",
   "execution_count": 15,
   "metadata": {},
   "outputs": [
    {
     "data": {
      "image/png": "[encoded data removed]",
      "text/plain": [
       "<Figure size 1200x800 with 1 Axes>"
      ]
     },
     "metadata": {},
     "output_type": "display_data"
    }
   ],
   "source": [
    "\n",
    "# '구'별로 1차역세권과 2차역세권 평균 계산\n",
    "avg_prices = concat_select.groupby(['구', '1차역세권', '2차역세권'])['target'].mean().reset_index()\n",
    "\n",
    "# 데이터 재구성: '구'를 인덱스로 피벗 테이블 만들기\n",
    "data_pivot = avg_prices.pivot(index='구', columns=['1차역세권', '2차역세권'], values='target')\n",
    "\n",
    "# 그래프 그리기\n",
    "def plot_horizontal_bar(data, title, x_label, y_label):\n",
    "    fig, ax = plt.subplots(figsize=(12, 8))\n",
    "    data.plot(\n",
    "        kind='barh',\n",
    "        ax=ax,\n",
    "        colormap='viridis',\n",
    "        width=0.7\n",
    "    )\n",
    "    plt.title(title)\n",
    "    plt.xlabel(x_label)\n",
    "    plt.ylabel(y_label)\n",
    "    plt.legend(\n",
    "        title='(1차역세권, 2차역세권)',\n",
    "        bbox_to_anchor=(1.05, 1),\n",
    "        loc='upper left'\n",
    "    )\n",
    "    plt.grid(axis='x', linestyle='--', alpha=0.7)\n",
    "    plt.tight_layout()\n",
    "    plt.show()\n",
    "\n",
    "plot_horizontal_bar(\n",
    "    data_pivot,\n",
    "    title='구별 1차 및 2차역세권에 따른 평균 가격',\n",
    "    x_label='평균 가격 (target)',\n",
    "    y_label='구'\n",
    ")"
   ]
  },
  {
   "cell_type": "code",
   "execution_count": 16,
   "metadata": {},
   "outputs": [
    {
     "data": {
      "text/html": [
       "<div>\n",
       "<style scoped>\n",
       "    .dataframe tbody tr th:only-of-type {\n",
       "        vertical-align: middle;\n",
       "    }\n",
       "\n",
       "    .dataframe tbody tr th {\n",
       "        vertical-align: top;\n",
       "    }\n",
       "\n",
       "    .dataframe thead th {\n",
       "        text-align: right;\n",
       "    }\n",
       "</style>\n",
       "<table border=\"1\" class=\"dataframe\">\n",
       "  <thead>\n",
       "    <tr style=\"text-align: right;\">\n",
       "      <th></th>\n",
       "      <th>노드 ID</th>\n",
       "      <th>정류소번호</th>\n",
       "      <th>정류소명</th>\n",
       "      <th>x</th>\n",
       "      <th>y</th>\n",
       "      <th>정류소 타입</th>\n",
       "    </tr>\n",
       "  </thead>\n",
       "  <tbody>\n",
       "    <tr>\n",
       "      <th>0</th>\n",
       "      <td>100000001</td>\n",
       "      <td>1001</td>\n",
       "      <td>종로2가사거리</td>\n",
       "      <td>126.987752</td>\n",
       "      <td>37.569808</td>\n",
       "      <td>중앙차로</td>\n",
       "    </tr>\n",
       "  </tbody>\n",
       "</table>\n",
       "</div>"
      ],
      "text/plain": [
       "       노드 ID  정류소번호     정류소명           x          y 정류소 타입\n",
       "0  100000001   1001  종로2가사거리  126.987752  37.569808   중앙차로"
      ]
     },
     "execution_count": 16,
     "metadata": {},
     "output_type": "execute_result"
    }
   ],
   "source": [
    "bus_df.head(1)"
   ]
  },
  {
   "cell_type": "code",
   "execution_count": 17,
   "metadata": {},
   "outputs": [],
   "source": [
    "concat_select = module.preprocess.calculate_nearest_bus_distance(concat_select, bus_df, 'nearest_bus_distance')"
   ]
  },
  {
   "cell_type": "code",
   "execution_count": 18,
   "metadata": {},
   "outputs": [],
   "source": [
    "module.preprocess.버세권_add(concat_select)"
   ]
  },
  {
   "cell_type": "code",
   "execution_count": 19,
   "metadata": {},
   "outputs": [
    {
     "data": {
      "text/html": [
       "<div>\n",
       "<style scoped>\n",
       "    .dataframe tbody tr th:only-of-type {\n",
       "        vertical-align: middle;\n",
       "    }\n",
       "\n",
       "    .dataframe tbody tr th {\n",
       "        vertical-align: top;\n",
       "    }\n",
       "\n",
       "    .dataframe thead th {\n",
       "        text-align: right;\n",
       "    }\n",
       "</style>\n",
       "<table border=\"1\" class=\"dataframe\">\n",
       "  <thead>\n",
       "    <tr style=\"text-align: right;\">\n",
       "      <th></th>\n",
       "      <th>시군구</th>\n",
       "      <th>번지</th>\n",
       "      <th>본번</th>\n",
       "      <th>부번</th>\n",
       "      <th>아파트명</th>\n",
       "      <th>전용면적(㎡)</th>\n",
       "      <th>계약년월</th>\n",
       "      <th>계약일</th>\n",
       "      <th>층</th>\n",
       "      <th>건축년도</th>\n",
       "      <th>...</th>\n",
       "      <th>금리_단기1년전차이</th>\n",
       "      <th>is_test</th>\n",
       "      <th>nearest_subway_distance</th>\n",
       "      <th>1차역세권</th>\n",
       "      <th>2차역세권</th>\n",
       "      <th>시</th>\n",
       "      <th>구</th>\n",
       "      <th>동</th>\n",
       "      <th>nearest_bus_distance</th>\n",
       "      <th>1차버스정류장</th>\n",
       "    </tr>\n",
       "  </thead>\n",
       "  <tbody>\n",
       "    <tr>\n",
       "      <th>0</th>\n",
       "      <td>서울특별시 강남구 개포동</td>\n",
       "      <td>1164-12</td>\n",
       "      <td>1164.0</td>\n",
       "      <td>12.0</td>\n",
       "      <td>새롬</td>\n",
       "      <td>71.72</td>\n",
       "      <td>201709</td>\n",
       "      <td>23</td>\n",
       "      <td>7</td>\n",
       "      <td>2000</td>\n",
       "      <td>...</td>\n",
       "      <td>0.0</td>\n",
       "      <td>0</td>\n",
       "      <td>1.487254e+08</td>\n",
       "      <td>0</td>\n",
       "      <td>0</td>\n",
       "      <td>서울특별시</td>\n",
       "      <td>강남구</td>\n",
       "      <td>개포동</td>\n",
       "      <td>103.447468</td>\n",
       "      <td>1</td>\n",
       "    </tr>\n",
       "  </tbody>\n",
       "</table>\n",
       "<p>1 rows × 57 columns</p>\n",
       "</div>"
      ],
      "text/plain": [
       "             시군구       번지      본번    부번 아파트명  전용면적(㎡)    계약년월  계약일  층  건축년도  \\\n",
       "0  서울특별시 강남구 개포동  1164-12  1164.0  12.0   새롬    71.72  201709   23  7  2000   \n",
       "\n",
       "   ... 금리_단기1년전차이 is_test nearest_subway_distance 1차역세권 2차역세권      시    구  \\\n",
       "0  ...        0.0       0            1.487254e+08     0     0  서울특별시  강남구   \n",
       "\n",
       "     동 nearest_bus_distance 1차버스정류장  \n",
       "0  개포동           103.447468       1  \n",
       "\n",
       "[1 rows x 57 columns]"
      ]
     },
     "execution_count": 19,
     "metadata": {},
     "output_type": "execute_result"
    }
   ],
   "source": [
    "concat_select.head(1)"
   ]
  },
  {
   "cell_type": "code",
   "execution_count": 22,
   "metadata": {},
   "outputs": [],
   "source": [
    "# nearest_subway_distance\n",
    "# nearest_subway_distance\n",
    "concat_select.drop(['nearest_subway_distance', 'nearest_bus_distance'], axis=1, inplace=True)"
   ]
  },
  {
   "cell_type": "code",
   "execution_count": 24,
   "metadata": {},
   "outputs": [],
   "source": [
    "concat_select.drop(['시', '구','동'], axis=1, inplace=True)"
   ]
  },
  {
   "cell_type": "code",
   "execution_count": 25,
   "metadata": {},
   "outputs": [
    {
     "data": {
      "text/html": [
       "<div>\n",
       "<style scoped>\n",
       "    .dataframe tbody tr th:only-of-type {\n",
       "        vertical-align: middle;\n",
       "    }\n",
       "\n",
       "    .dataframe tbody tr th {\n",
       "        vertical-align: top;\n",
       "    }\n",
       "\n",
       "    .dataframe thead th {\n",
       "        text-align: right;\n",
       "    }\n",
       "</style>\n",
       "<table border=\"1\" class=\"dataframe\">\n",
       "  <thead>\n",
       "    <tr style=\"text-align: right;\">\n",
       "      <th></th>\n",
       "      <th>시군구</th>\n",
       "      <th>번지</th>\n",
       "      <th>본번</th>\n",
       "      <th>부번</th>\n",
       "      <th>아파트명</th>\n",
       "      <th>전용면적(㎡)</th>\n",
       "      <th>계약년월</th>\n",
       "      <th>계약일</th>\n",
       "      <th>층</th>\n",
       "      <th>건축년도</th>\n",
       "      <th>...</th>\n",
       "      <th>관리비 업로드</th>\n",
       "      <th>좌표X</th>\n",
       "      <th>좌표Y</th>\n",
       "      <th>단지신청일</th>\n",
       "      <th>target</th>\n",
       "      <th>금리_단기1년전차이</th>\n",
       "      <th>is_test</th>\n",
       "      <th>1차역세권</th>\n",
       "      <th>2차역세권</th>\n",
       "      <th>1차버스정류장</th>\n",
       "    </tr>\n",
       "  </thead>\n",
       "  <tbody>\n",
       "    <tr>\n",
       "      <th>0</th>\n",
       "      <td>서울특별시 강남구 개포동</td>\n",
       "      <td>1164-12</td>\n",
       "      <td>1164.0</td>\n",
       "      <td>12.0</td>\n",
       "      <td>새롬</td>\n",
       "      <td>71.72</td>\n",
       "      <td>201709</td>\n",
       "      <td>23</td>\n",
       "      <td>7</td>\n",
       "      <td>2000</td>\n",
       "      <td>...</td>\n",
       "      <td>NaN</td>\n",
       "      <td>127.052952</td>\n",
       "      <td>37.473188</td>\n",
       "      <td>NaN</td>\n",
       "      <td>64500.0</td>\n",
       "      <td>0.0</td>\n",
       "      <td>0</td>\n",
       "      <td>0</td>\n",
       "      <td>0</td>\n",
       "      <td>1</td>\n",
       "    </tr>\n",
       "  </tbody>\n",
       "</table>\n",
       "<p>1 rows × 52 columns</p>\n",
       "</div>"
      ],
      "text/plain": [
       "             시군구       번지      본번    부번 아파트명  전용면적(㎡)    계약년월  계약일  층  건축년도  \\\n",
       "0  서울특별시 강남구 개포동  1164-12  1164.0  12.0   새롬    71.72  201709   23  7  2000   \n",
       "\n",
       "   ... 관리비 업로드         좌표X        좌표Y 단지신청일   target 금리_단기1년전차이 is_test 1차역세권  \\\n",
       "0  ...     NaN  127.052952  37.473188   NaN  64500.0        0.0       0     0   \n",
       "\n",
       "  2차역세권 1차버스정류장  \n",
       "0     0       1  \n",
       "\n",
       "[1 rows x 52 columns]"
      ]
     },
     "execution_count": 25,
     "metadata": {},
     "output_type": "execute_result"
    }
   ],
   "source": [
    "concat_select.head(1)"
   ]
  },
  {
   "cell_type": "code",
   "execution_count": 26,
   "metadata": {},
   "outputs": [
    {
     "data": {
      "text/plain": [
       "0    1116990\n",
       "1       9272\n",
       "Name: is_test, dtype: int64"
      ]
     },
     "execution_count": 26,
     "metadata": {},
     "output_type": "execute_result"
    }
   ],
   "source": [
    "concat_select['is_test'].value_counts()"
   ]
  },
  {
   "cell_type": "code",
   "execution_count": 27,
   "metadata": {},
   "outputs": [
    {
     "name": "stdout",
     "output_type": "stream",
     "text": [
      "v6.csv 파일이 저장되었습니다.\n"
     ]
    }
   ],
   "source": [
    "# module.save.save_version(concat_select, 'v6')"
   ]
  }
 ],
 "metadata": {
  "kernelspec": {
   "display_name": "base",
   "language": "python",
   "name": "python3"
  },
  "language_info": {
   "codemirror_mode": {
    "name": "ipython",
    "version": 3
   },
   "file_extension": ".py",
   "mimetype": "text/x-python",
   "name": "python",
   "nbconvert_exporter": "python",
   "pygments_lexer": "ipython3",
   "version": "3.10.13"
  }
 },
 "nbformat": 4,
 "nbformat_minor": 2
}
