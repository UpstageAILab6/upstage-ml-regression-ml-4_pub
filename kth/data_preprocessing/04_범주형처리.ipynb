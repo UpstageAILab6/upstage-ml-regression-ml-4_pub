{
 "cells": [
  {
   "cell_type": "code",
   "execution_count": 1,
   "metadata": {},
   "outputs": [],
   "source": [
    "# sys.path를 수정하여 모듈 경로를 설정\n",
    "import sys\n",
    "import os\n",
    "import pandas as pd\n",
    "\n",
    "# 프로젝트 루트 경로 추가\n",
    "project_root = os.path.abspath(\"..\")\n",
    "sys.path.append(project_root)\n",
    "\n",
    "import module"
   ]
  },
  {
   "cell_type": "code",
   "execution_count": 2,
   "metadata": {},
   "outputs": [],
   "source": [
    "df = module.file_load.load_current_version()"
   ]
  },
  {
   "cell_type": "code",
   "execution_count": 3,
   "metadata": {},
   "outputs": [
    {
     "name": "stdout",
     "output_type": "stream",
     "text": [
      "<class 'pandas.core.frame.DataFrame'>\n",
      "Int64Index: 1128094 entries, 0 to 9271\n",
      "Data columns (total 54 columns):\n",
      " #   Column                  Non-Null Count    Dtype  \n",
      "---  ------                  --------------    -----  \n",
      " 0   시군구                     1128094 non-null  object \n",
      " 1   번지                      1127867 non-null  object \n",
      " 2   본번                      1128019 non-null  float64\n",
      " 3   부번                      1128019 non-null  float64\n",
      " 4   아파트명                    1125958 non-null  object \n",
      " 5   전용면적(㎡)                 1128094 non-null  float64\n",
      " 6   계약년월                    1128094 non-null  int64  \n",
      " 7   계약일                     1128094 non-null  int64  \n",
      " 8   층                       1128094 non-null  int64  \n",
      " 9   건축년도                    1128094 non-null  int64  \n",
      " 10  도로명                     1128094 non-null  object \n",
      " 11  해제사유발생일                 6195 non-null     float64\n",
      " 12  등기신청일자                  1128094 non-null  object \n",
      " 13  거래유형                    1128094 non-null  object \n",
      " 14  중개사소재지                  1128094 non-null  object \n",
      " 15  k-단지분류(아파트,주상복합등등)      250821 non-null   object \n",
      " 16  k-전화번호                  251244 non-null   object \n",
      " 17  k-팩스번호                  248746 non-null   object \n",
      " 18  단지소개기존clob              69136 non-null    float64\n",
      " 19  k-세대타입(분양형태)            251969 non-null   object \n",
      " 20  k-관리방식                  251969 non-null   object \n",
      " 21  k-복도유형                  251640 non-null   object \n",
      " 22  k-난방방식                  251969 non-null   object \n",
      " 23  k-전체동수                  250887 non-null   float64\n",
      " 24  k-전체세대수                 251969 non-null   float64\n",
      " 25  k-건설사(시공사)              250457 non-null   object \n",
      " 26  k-시행사                   250260 non-null   object \n",
      " 27  k-사용검사일-사용승인일           251835 non-null   object \n",
      " 28  k-연면적                   251969 non-null   float64\n",
      " 29  k-주거전용면적                251924 non-null   float64\n",
      " 30  k-관리비부과면적               251969 non-null   float64\n",
      " 31  k-전용면적별세대현황(60㎡이하)      251924 non-null   float64\n",
      " 32  k-전용면적별세대현황(60㎡~85㎡이하)  251924 non-null   float64\n",
      " 33  k-85㎡~135㎡이하            251924 non-null   float64\n",
      " 34  k-135㎡초과                329 non-null      float64\n",
      " 35  k-홈페이지                  114571 non-null   object \n",
      " 36  k-등록일자                  11708 non-null    object \n",
      " 37  k-수정일자                  251924 non-null   object \n",
      " 38  고용보험관리번호                207337 non-null   object \n",
      " 39  경비비관리형태                 250533 non-null   object \n",
      " 40  세대전기계약방법                242705 non-null   object \n",
      " 41  청소비관리형태                 250343 non-null   object \n",
      " 42  건축면적                    251815 non-null   float64\n",
      " 43  주차대수                    251817 non-null   float64\n",
      " 44  기타/의무/임대/임의=1/2/3/4     251969 non-null   object \n",
      " 45  단지승인일                   251240 non-null   object \n",
      " 46  사용허가여부                  251969 non-null   object \n",
      " 47  관리비 업로드                 251969 non-null   object \n",
      " 48  좌표X                     1128094 non-null  float64\n",
      " 49  좌표Y                     1128094 non-null  float64\n",
      " 50  단지신청일                   251907 non-null   object \n",
      " 51  target                  1118822 non-null  float64\n",
      " 52  금리_단기1년전차이              1128094 non-null  float64\n",
      " 53  is_test                 1128094 non-null  int64  \n",
      "dtypes: float64(20), int64(5), object(29)\n",
      "memory usage: 473.4+ MB\n"
     ]
    }
   ],
   "source": [
    "df.info()"
   ]
  },
  {
   "cell_type": "code",
   "execution_count": 4,
   "metadata": {},
   "outputs": [],
   "source": [
    "module.preprocess.범주형_타입변환(df)"
   ]
  },
  {
   "cell_type": "code",
   "execution_count": 5,
   "metadata": {},
   "outputs": [
    {
     "name": "stdout",
     "output_type": "stream",
     "text": [
      "<class 'pandas.core.frame.DataFrame'>\n",
      "Int64Index: 1128094 entries, 0 to 9271\n",
      "Data columns (total 54 columns):\n",
      " #   Column                  Non-Null Count    Dtype  \n",
      "---  ------                  --------------    -----  \n",
      " 0   시군구                     1128094 non-null  object \n",
      " 1   번지                      1128094 non-null  object \n",
      " 2   본번                      1128094 non-null  object \n",
      " 3   부번                      1128094 non-null  object \n",
      " 4   아파트명                    1125958 non-null  object \n",
      " 5   전용면적(㎡)                 1128094 non-null  float64\n",
      " 6   계약년월                    1128094 non-null  object \n",
      " 7   계약일                     1128094 non-null  object \n",
      " 8   층                       1128094 non-null  object \n",
      " 9   건축년도                    1128094 non-null  object \n",
      " 10  도로명                     1128094 non-null  object \n",
      " 11  해제사유발생일                 6195 non-null     float64\n",
      " 12  등기신청일자                  1128094 non-null  object \n",
      " 13  거래유형                    1128094 non-null  object \n",
      " 14  중개사소재지                  1128094 non-null  object \n",
      " 15  k-단지분류(아파트,주상복합등등)      250821 non-null   object \n",
      " 16  k-전화번호                  251244 non-null   object \n",
      " 17  k-팩스번호                  248746 non-null   object \n",
      " 18  단지소개기존clob              69136 non-null    float64\n",
      " 19  k-세대타입(분양형태)            251969 non-null   object \n",
      " 20  k-관리방식                  251969 non-null   object \n",
      " 21  k-복도유형                  251640 non-null   object \n",
      " 22  k-난방방식                  251969 non-null   object \n",
      " 23  k-전체동수                  250887 non-null   float64\n",
      " 24  k-전체세대수                 251969 non-null   float64\n",
      " 25  k-건설사(시공사)              250457 non-null   object \n",
      " 26  k-시행사                   250260 non-null   object \n",
      " 27  k-사용검사일-사용승인일           251835 non-null   object \n",
      " 28  k-연면적                   251969 non-null   float64\n",
      " 29  k-주거전용면적                251924 non-null   float64\n",
      " 30  k-관리비부과면적               251969 non-null   float64\n",
      " 31  k-전용면적별세대현황(60㎡이하)      251924 non-null   float64\n",
      " 32  k-전용면적별세대현황(60㎡~85㎡이하)  251924 non-null   float64\n",
      " 33  k-85㎡~135㎡이하            251924 non-null   float64\n",
      " 34  k-135㎡초과                329 non-null      float64\n",
      " 35  k-홈페이지                  114571 non-null   object \n",
      " 36  k-등록일자                  11708 non-null    object \n",
      " 37  k-수정일자                  251924 non-null   object \n",
      " 38  고용보험관리번호                207337 non-null   object \n",
      " 39  경비비관리형태                 250533 non-null   object \n",
      " 40  세대전기계약방법                242705 non-null   object \n",
      " 41  청소비관리형태                 250343 non-null   object \n",
      " 42  건축면적                    251815 non-null   float64\n",
      " 43  주차대수                    251817 non-null   float64\n",
      " 44  기타/의무/임대/임의=1/2/3/4     251969 non-null   object \n",
      " 45  단지승인일                   251240 non-null   object \n",
      " 46  사용허가여부                  251969 non-null   object \n",
      " 47  관리비 업로드                 251969 non-null   object \n",
      " 48  좌표X                     1128094 non-null  float64\n",
      " 49  좌표Y                     1128094 non-null  float64\n",
      " 50  단지신청일                   251907 non-null   object \n",
      " 51  target                  1118822 non-null  float64\n",
      " 52  금리_단기1년전차이              1128094 non-null  float64\n",
      " 53  is_test                 1128094 non-null  int64  \n",
      "dtypes: float64(18), int64(1), object(35)\n",
      "memory usage: 473.4+ MB\n"
     ]
    }
   ],
   "source": [
    "df.info()"
   ]
  },
  {
   "cell_type": "code",
   "execution_count": 6,
   "metadata": {},
   "outputs": [
    {
     "name": "stderr",
     "output_type": "stream",
     "text": [
      "/data/ephemeral/home/local_git/dev_collect/module/save.py:7: SettingWithCopyWarning: \n",
      "A value is trying to be set on a copy of a slice from a DataFrame\n",
      "\n",
      "See the caveats in the documentation: https://pandas.pydata.org/pandas-docs/stable/user_guide/indexing.html#returning-a-view-versus-a-copy\n",
      "  dt_train.drop(['is_test'], axis=1, inplace=True)\n",
      "/data/ephemeral/home/local_git/dev_collect/module/save.py:8: SettingWithCopyWarning: \n",
      "A value is trying to be set on a copy of a slice from a DataFrame\n",
      "\n",
      "See the caveats in the documentation: https://pandas.pydata.org/pandas-docs/stable/user_guide/indexing.html#returning-a-view-versus-a-copy\n",
      "  dt_test.drop(['is_test'], axis=1, inplace=True)\n"
     ]
    },
    {
     "name": "stdout",
     "output_type": "stream",
     "text": [
      "v4.csv 파일이 저장되었습니다.\n"
     ]
    }
   ],
   "source": [
    "module.save.save_version(df, 'v4')"
   ]
  }
 ],
 "metadata": {
  "kernelspec": {
   "display_name": "base",
   "language": "python",
   "name": "python3"
  },
  "language_info": {
   "codemirror_mode": {
    "name": "ipython",
    "version": 3
   },
   "file_extension": ".py",
   "mimetype": "text/x-python",
   "name": "python",
   "nbconvert_exporter": "python",
   "pygments_lexer": "ipython3",
   "version": "3.10.13"
  }
 },
 "nbformat": 4,
 "nbformat_minor": 2
}
